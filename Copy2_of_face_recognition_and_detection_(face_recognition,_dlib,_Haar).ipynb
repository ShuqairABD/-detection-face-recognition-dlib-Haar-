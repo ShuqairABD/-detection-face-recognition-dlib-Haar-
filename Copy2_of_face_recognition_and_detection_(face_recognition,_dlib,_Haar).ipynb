{
  "cells": [
    {
      "cell_type": "markdown",
      "metadata": {
        "id": "view-in-github",
        "colab_type": "text"
      },
      "source": [
        "<a href=\"https://colab.research.google.com/github/ShuqairABD/-detection-face-recognition-dlib-Haar-/blob/main/Copy2_of_face_recognition_and_detection_(face_recognition%2C_dlib%2C_Haar).ipynb\" target=\"_parent\"><img src=\"https://colab.research.google.com/assets/colab-badge.svg\" alt=\"Open In Colab\"/></a>"
      ]
    },
    {
      "cell_type": "code",
      "execution_count": null,
      "metadata": {
        "colab": {
          "base_uri": "https://localhost:8080/"
        },
        "id": "FADTb1Hgzn_S",
        "outputId": "6d4a249d-a9f2-4a89-fbdb-7e146bb80bbb"
      },
      "outputs": [
        {
          "output_type": "stream",
          "name": "stdout",
          "text": [
            "Collecting face_recognition\n",
            "  Downloading face_recognition-1.3.0-py2.py3-none-any.whl (15 kB)\n",
            "Collecting face-recognition-models>=0.3.0 (from face_recognition)\n",
            "  Downloading face_recognition_models-0.3.0.tar.gz (100.1 MB)\n",
            "\u001b[2K     \u001b[90m━━━━━━━━━━━━━━━━━━━━━━━━━━━━━━━━━━━━━━━━\u001b[0m \u001b[32m100.1/100.1 MB\u001b[0m \u001b[31m15.2 MB/s\u001b[0m eta \u001b[36m0:00:00\u001b[0m\n",
            "\u001b[?25h  Preparing metadata (setup.py) ... \u001b[?25l\u001b[?25hdone\n",
            "Requirement already satisfied: Click>=6.0 in /usr/local/lib/python3.10/dist-packages (from face_recognition) (8.1.7)\n",
            "Requirement already satisfied: dlib>=19.7 in /usr/local/lib/python3.10/dist-packages (from face_recognition) (19.24.2)\n",
            "Requirement already satisfied: numpy in /usr/local/lib/python3.10/dist-packages (from face_recognition) (1.25.2)\n",
            "Requirement already satisfied: Pillow in /usr/local/lib/python3.10/dist-packages (from face_recognition) (9.4.0)\n",
            "Building wheels for collected packages: face-recognition-models\n",
            "  Building wheel for face-recognition-models (setup.py) ... \u001b[?25l\u001b[?25hdone\n",
            "  Created wheel for face-recognition-models: filename=face_recognition_models-0.3.0-py2.py3-none-any.whl size=100566170 sha256=5a2ef1f84f97e28cf206356e366dd72447f8220d30153c23d8a1c44fc88f5b03\n",
            "  Stored in directory: /root/.cache/pip/wheels/7a/eb/cf/e9eced74122b679557f597bb7c8e4c739cfcac526db1fd523d\n",
            "Successfully built face-recognition-models\n",
            "Installing collected packages: face-recognition-models, face_recognition\n",
            "Successfully installed face-recognition-models-0.3.0 face_recognition-1.3.0\n"
          ]
        }
      ],
      "source": [
        "!pip install face_recognition"
      ]
    },
    {
      "cell_type": "code",
      "source": [
        "# Импортируем необходимые библиотеки\n",
        "import cv2  # Библиотека OpenCV для обработки изображений\n",
        "import dlib  # Библиотека dlib для обнаружения лиц\n",
        "import face_recognition  # Библиотека face_recognition для распознавания лиц\n",
        "from google.colab import files  # Импорт функции для загрузки файлов в Google Colab\n",
        "import os  # Библиотека для работы с операционной системой\n",
        "from cv2 import data"
      ],
      "metadata": {
        "id": "yRVcgC5_EkwD"
      },
      "execution_count": null,
      "outputs": []
    },
    {
      "cell_type": "code",
      "source": [
        "# Создаем каталог для загрузки фотографий\n",
        "!mkdir photos"
      ],
      "metadata": {
        "id": "mLsIKbj1Eviu"
      },
      "execution_count": null,
      "outputs": []
    },
    {
      "cell_type": "code",
      "source": [
        "# Получаем список путей к файлам изображений\n",
        "photo_files = os.listdir('photos')\n",
        "\n",
        "# Загружаем изображения\n",
        "images = []\n",
        "for file in photo_files:\n",
        "    image = cv2.imread(os.path.join('photos', file))\n",
        "    images.append(image)\n"
      ],
      "metadata": {
        "id": "HzZ_cq5gE88U"
      },
      "execution_count": null,
      "outputs": []
    },
    {
      "cell_type": "code",
      "source": [
        "# Инициализируем детектор лиц\n",
        "detector = dlib.get_frontal_face_detector()\n",
        "\n",
        "# Загружаем Haar каскад для детектирования лиц\n",
        "face_cascade = cv2.CascadeClassifier(cv2.data.haarcascades + 'haarcascade_frontalface_default.xml')\n",
        "\n",
        "\n",
        "# Обнаруживаем лица на каждом изображении\n",
        "detected_faces = []\n",
        "for image in images:\n",
        "    # Преобразуем изображение в оттенки серого\n",
        "    gray = cv2.cvtColor(image, cv2.COLOR_BGR2GRAY)\n",
        "    # Обнаруживаем лица на оттенках серого изображения\n",
        "    faces = detector(gray)\n",
        "    detected_faces.append(faces)\n"
      ],
      "metadata": {
        "id": "JoDsCxygFKhM"
      },
      "execution_count": null,
      "outputs": []
    },
    {
      "cell_type": "code",
      "source": [
        "# Функция для распознавания лиц\n",
        "def recognize_faces(image):\n",
        "    # Кодируем лица на изображении\n",
        "    face_encodings = face_recognition.face_encodings(image)\n",
        "    return face_encodings\n",
        "\n",
        "# Обнаруживаем и распознаем лица на каждом изображении\n",
        "detected_faces = []\n",
        "recognized_faces = []\n",
        "for image in images:\n",
        "    # Преобразуем изображение в оттенки серого для детектирования лиц\n",
        "    gray = cv2.cvtColor(image, cv2.COLOR_BGR2GRAY)\n",
        "\n",
        "    # Обнаруживаем лица с использованием каскада Хаара\n",
        "    faces = face_cascade.detectMultiScale(gray, scaleFactor=1.3, minNeighbors=5)\n",
        "    detected_faces.append(faces)\n",
        "\n",
        "    # Распознаем лица\n",
        "    face_encodings = recognize_faces(image)\n",
        "    recognized_faces.append(face_encodings)\n"
      ],
      "metadata": {
        "id": "iZ7rplnqGFbK"
      },
      "execution_count": null,
      "outputs": []
    },
    {
      "cell_type": "code",
      "source": [
        "from google.colab.patches import cv2_imshow\n",
        "\n",
        "# Отображаем результаты\n",
        "for i, image in enumerate(images):\n",
        "    for (x, y, w, h) in detected_faces[i]:\n",
        "        cv2.rectangle(image, (x, y), (x + w, y + h), (255, 0, 0), 2)\n",
        "    # Рисуем ограничительную рамку вокруг распознанных лиц (при наличии)\n",
        "    for face_encoding in recognized_faces[i]:\n",
        "        # Здесь можно реализовать отображение результатов распознавания\n",
        "        pass\n",
        "    # Отображаем изображение\n",
        "    cv2_imshow(image)\n"
      ],
      "metadata": {
        "id": "LOmh73cOGa6E"
      },
      "execution_count": null,
      "outputs": []
    },
    {
      "cell_type": "code",
      "source": [
        "# Создаем каталог для сохранения обнаруженных лиц\n",
        "!mkdir detected_faces\n",
        "\n",
        "# Функция для сохранения обнаруженных лиц\n",
        "def save_detected_faces(image_index, faces):\n",
        "    for idx, (x, y, w, h) in enumerate(faces):\n",
        "        face_image = images[image_index][y:y+h, x:x+w]\n",
        "        cv2.imwrite(f'detected_faces/face_{image_index}_{idx}.jpg', face_image)\n",
        "\n",
        "# Обнаруживаем и сохраняем лица\n",
        "for i, image in enumerate(images):\n",
        "    detected_faces = face_cascade.detectMultiScale(cv2.cvtColor(image, cv2.COLOR_BGR2GRAY), scaleFactor=1.3, minNeighbors=5)\n",
        "    save_detected_faces(i, detected_faces)\n"
      ],
      "metadata": {
        "id": "76jzT_pOG1eZ"
      },
      "execution_count": null,
      "outputs": []
    },
    {
      "cell_type": "code",
      "source": [
        "import shutil\n",
        "import os\n",
        "\n",
        "# Создаем zip-архив папки detected_faces\n",
        "shutil.make_archive('detected_faces', 'zip', '.', 'detected_faces')\n",
        "\n",
        "# Получаем путь к zip-файлу\n",
        "zip_path = '/content/detected_faces.zip'"
      ],
      "metadata": {
        "id": "rwXrxiKKHCDJ"
      },
      "execution_count": null,
      "outputs": []
    }
  ],
  "metadata": {
    "accelerator": "GPU",
    "colab": {
      "machine_shape": "hm",
      "provenance": [],
      "authorship_tag": "ABX9TyMZEs7t1UTXrL4G3SEJ61uT",
      "include_colab_link": true
    },
    "kernelspec": {
      "display_name": "Python 3",
      "name": "python3"
    },
    "language_info": {
      "name": "python"
    }
  },
  "nbformat": 4,
  "nbformat_minor": 0
}